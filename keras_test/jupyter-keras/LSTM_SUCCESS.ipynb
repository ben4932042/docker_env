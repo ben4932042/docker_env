{
 "cells": [
  {
   "cell_type": "code",
   "execution_count": 1,
   "metadata": {},
   "outputs": [],
   "source": [
    "# Import the libraries\n",
    "import numpy as np\n",
    "import matplotlib.pyplot as plt  # for 畫圖用\n",
    "import pandas as pd"
   ]
  },
  {
   "cell_type": "code",
   "execution_count": 2,
   "metadata": {},
   "outputs": [],
   "source": [
    "dataset = pd.read_csv('./2330.TW.csv')  # 讀取訓練集\n",
    "\n",
    "n = 1000\n",
    "epochs_time = 50\n",
    "rolling_time = 50\n",
    "dataset_train = dataset.iloc[100:n]\n",
    "dataset_test = dataset.iloc[n:]"
   ]
  },
  {
   "cell_type": "code",
   "execution_count": 3,
   "metadata": {},
   "outputs": [],
   "source": [
    "training_set = dataset_train.iloc[:, 1:2].values  # 取「Open」欄位值\n",
    "real_stock_price = dataset_test.iloc[:, 1:2].values"
   ]
  },
  {
   "cell_type": "markdown",
   "metadata": {},
   "source": [
    "Reshape\n",
    "因為現在 X_train 是 2-dimension，將它 reshape 成 3-dimension: [stock prices, timesteps, indicators]"
   ]
  },
  {
   "cell_type": "markdown",
   "metadata": {},
   "source": [
    "input_shape是輸入資料格式，LSTM 層輸入格式: 為矩陣,矩陣內容 [ samples, time steps, features ] samples:觀測值，time steps:對於給定的觀測值,給定變數有單獨的時間步--就是時間視窗 features:在得到觀測值的時刻,觀測到的單獨的 measures--就是列數(屬性個數)"
   ]
  },
  {
   "cell_type": "code",
   "execution_count": 4,
   "metadata": {},
   "outputs": [],
   "source": [
    "# Feature Scaling\n",
    "from sklearn.preprocessing import MinMaxScaler\n",
    "\n",
    "sc = MinMaxScaler(feature_range = (0, 1))\n",
    "training_set_scaled = sc.fit_transform(training_set)\n",
    "\n",
    "X_train = []   #預測點的前 rolling_time 天的資料\n",
    "y_train = []   #預測點\n",
    "for i in range(rolling_time, len(dataset_train)):\n",
    "    X_train.append(training_set_scaled[i-rolling_time:i, 0])\n",
    "    y_train.append(training_set_scaled[i, 0])\n",
    "X_train, y_train = np.array(X_train), np.array(y_train)  # 轉成numpy array的格式，以利輸入 RNN\n",
    "\n",
    "X_train = np.reshape(X_train, (X_train.shape[0], X_train.shape[1], 1))"
   ]
  },
  {
   "cell_type": "markdown",
   "metadata": {},
   "source": [
    "搭建 LSTM layer:\n",
    "units: 神經元的數目\n",
    "第一層的 LSTM Layer 記得要設定input_shape參數\n",
    "搭配使用dropout，這裡設為 0.2\n",
    "由於這邊的第四層 LSTM Layer 即將跟 Ouput Layer 做連接，因此注意這邊的 return_sequences 設為預設值 False （也就是不用寫上 return_sequences）"
   ]
  },
  {
   "cell_type": "code",
   "execution_count": null,
   "metadata": {},
   "outputs": [
    {
     "name": "stderr",
     "output_type": "stream",
     "text": [
      "Using TensorFlow backend.\n",
      "WARNING: Logging before flag parsing goes to stderr.\n",
      "W0613 16:30:17.056380 140282034321216 deprecation_wrapper.py:119] From /opt/conda/lib/python3.7/site-packages/keras/backend/tensorflow_backend.py:74: The name tf.get_default_graph is deprecated. Please use tf.compat.v1.get_default_graph instead.\n",
      "\n",
      "W0613 16:30:17.071430 140282034321216 deprecation_wrapper.py:119] From /opt/conda/lib/python3.7/site-packages/keras/backend/tensorflow_backend.py:529: The name tf.placeholder is deprecated. Please use tf.compat.v1.placeholder instead.\n",
      "\n",
      "W0613 16:30:17.075146 140282034321216 deprecation_wrapper.py:119] From /opt/conda/lib/python3.7/site-packages/keras/backend/tensorflow_backend.py:4420: The name tf.random_uniform is deprecated. Please use tf.random.uniform instead.\n",
      "\n",
      "W0613 16:30:17.254495 140282034321216 deprecation_wrapper.py:119] From /opt/conda/lib/python3.7/site-packages/keras/backend/tensorflow_backend.py:136: The name tf.placeholder_with_default is deprecated. Please use tf.compat.v1.placeholder_with_default instead.\n",
      "\n",
      "W0613 16:30:17.263882 140282034321216 deprecation.py:506] From /opt/conda/lib/python3.7/site-packages/keras/backend/tensorflow_backend.py:3721: calling dropout (from tensorflow.python.ops.nn_ops) with keep_prob is deprecated and will be removed in a future version.\n",
      "Instructions for updating:\n",
      "Please use `rate` instead of `keep_prob`. Rate should be set to `rate = 1 - keep_prob`.\n"
     ]
    }
   ],
   "source": [
    "# Import the Keras libraries and packages\n",
    "from keras.models import Sequential\n",
    "from keras.layers import Dense\n",
    "from keras.layers import LSTM\n",
    "from keras.layers import Dropout\n",
    "\n",
    "# Initialising the RNN\n",
    "regressor = Sequential()\n",
    "\n",
    "# Adding the first LSTM layer and some Dropout regularisation\n",
    "regressor.add(LSTM(units = 50, return_sequences = True, input_shape = (X_train.shape[1], 1)))\n",
    "regressor.add(Dropout(0.2))\n",
    "\n",
    "# Adding a second LSTM layer and some Dropout regularisation\n",
    "regressor.add(LSTM(units = 50, return_sequences = True))\n",
    "regressor.add(Dropout(0.2))\n",
    "\n",
    "# Adding a third LSTM layer and some Dropout regularisation\n",
    "regressor.add(LSTM(units = 50, return_sequences = True))\n",
    "regressor.add(Dropout(0.2))\n",
    "\n",
    "# Adding a fourth LSTM layer and some Dropout regularisation\n",
    "regressor.add(LSTM(units = 50))\n",
    "regressor.add(Dropout(0.2))"
   ]
  },
  {
   "cell_type": "code",
   "execution_count": null,
   "metadata": {},
   "outputs": [],
   "source": [
    "# Adding the output layer\n",
    "regressor.add(Dense(units = 1))"
   ]
  },
  {
   "cell_type": "code",
   "execution_count": null,
   "metadata": {},
   "outputs": [
    {
     "name": "stderr",
     "output_type": "stream",
     "text": [
      "W0613 16:30:17.914035 140282034321216 deprecation_wrapper.py:119] From /opt/conda/lib/python3.7/site-packages/keras/optimizers.py:793: The name tf.train.Optimizer is deprecated. Please use tf.compat.v1.train.Optimizer instead.\n",
      "\n",
      "W0613 16:30:18.207318 140282034321216 deprecation.py:323] From /opt/conda/lib/python3.7/site-packages/tensorflow/python/ops/math_grad.py:1250: add_dispatch_support.<locals>.wrapper (from tensorflow.python.ops.array_ops) is deprecated and will be removed in a future version.\n",
      "Instructions for updating:\n",
      "Use tf.where in 2.0, which has the same broadcast rule as np.where\n",
      "W0613 16:30:20.477326 140282034321216 deprecation_wrapper.py:119] From /opt/conda/lib/python3.7/site-packages/keras/backend/tensorflow_backend.py:1021: The name tf.assign_add is deprecated. Please use tf.compat.v1.assign_add instead.\n",
      "\n"
     ]
    },
    {
     "name": "stdout",
     "output_type": "stream",
     "text": [
      "Epoch 1/50\n",
      "850/850 [==============================] - 5s 5ms/step - loss: 0.0536\n",
      "Epoch 2/50\n",
      "850/850 [==============================] - 2s 3ms/step - loss: 0.0091\n",
      "Epoch 3/50\n",
      "850/850 [==============================] - 2s 3ms/step - loss: 0.0055\n",
      "Epoch 4/50\n",
      "850/850 [==============================] - 2s 3ms/step - loss: 0.0044\n",
      "Epoch 5/50\n",
      "850/850 [==============================] - 2s 3ms/step - loss: 0.0037\n",
      "Epoch 6/50\n",
      "850/850 [==============================] - 3s 3ms/step - loss: 0.0039\n",
      "Epoch 7/50\n",
      "850/850 [==============================] - 2s 3ms/step - loss: 0.0036\n",
      "Epoch 8/50\n",
      "850/850 [==============================] - 2s 3ms/step - loss: 0.0038\n",
      "Epoch 9/50\n",
      "850/850 [==============================] - 2s 3ms/step - loss: 0.0034\n",
      "Epoch 10/50\n",
      "850/850 [==============================] - 2s 3ms/step - loss: 0.0037\n",
      "Epoch 11/50\n",
      "850/850 [==============================] - 2s 3ms/step - loss: 0.0034\n",
      "Epoch 12/50\n",
      "850/850 [==============================] - 2s 3ms/step - loss: 0.0037\n",
      "Epoch 13/50\n",
      "850/850 [==============================] - 2s 3ms/step - loss: 0.0035\n",
      "Epoch 14/50\n",
      "850/850 [==============================] - 2s 3ms/step - loss: 0.0032\n",
      "Epoch 15/50\n",
      "850/850 [==============================] - 2s 3ms/step - loss: 0.0030\n",
      "Epoch 16/50\n",
      "850/850 [==============================] - 3s 3ms/step - loss: 0.0027\n",
      "Epoch 17/50\n",
      "850/850 [==============================] - 2s 3ms/step - loss: 0.0028\n",
      "Epoch 18/50\n",
      "850/850 [==============================] - 3s 3ms/step - loss: 0.0031\n",
      "Epoch 19/50\n",
      "850/850 [==============================] - 2s 3ms/step - loss: 0.0028\n",
      "Epoch 20/50\n",
      "850/850 [==============================] - 3s 3ms/step - loss: 0.0028\n",
      "Epoch 21/50\n",
      "850/850 [==============================] - 3s 3ms/step - loss: 0.0027\n",
      "Epoch 22/50\n",
      "128/850 [===>..........................] - ETA: 2s - loss: 0.0023"
     ]
    }
   ],
   "source": [
    "# Compiling\n",
    "regressor.compile(optimizer = 'adam', loss = 'mean_squared_error')\n",
    "\n",
    "# 進行訓練\n",
    "regressor.fit(X_train, y_train, epochs = epochs_time, batch_size = 32)"
   ]
  },
  {
   "cell_type": "code",
   "execution_count": null,
   "metadata": {},
   "outputs": [],
   "source": [
    "dataset_total = pd.concat((dataset_train['Open'], dataset_test['Open']), axis = 0)\n",
    "inputs = dataset_total[len(dataset_total) - len(dataset_test) - rolling_time:].values\n",
    "inputs = inputs.reshape(-1,1)\n",
    "inputs = sc.transform(inputs) # Feature Scaling"
   ]
  },
  {
   "cell_type": "code",
   "execution_count": null,
   "metadata": {},
   "outputs": [],
   "source": [
    "X_test = []\n",
    "for i in range(rolling_time, len(real_stock_price)+rolling_time):\n",
    "    X_test.append(inputs[i-rolling_time:i, 0])\n",
    "X_test = np.array(X_test)\n",
    "X_test = np.reshape(X_test, (X_test.shape[0], X_test.shape[1], 1))  # Reshape 成 3-dimension"
   ]
  },
  {
   "cell_type": "code",
   "execution_count": null,
   "metadata": {},
   "outputs": [],
   "source": [
    "predicted_stock_price = regressor.predict(X_test)\n",
    "predicted_stock_price = sc.inverse_transform(predicted_stock_price)  # to get the original scale"
   ]
  },
  {
   "cell_type": "code",
   "execution_count": null,
   "metadata": {},
   "outputs": [],
   "source": [
    "# Visualising the results\n",
    "plt.plot(real_stock_price, color = 'red', label = 'Real TSM Stock Price')  # 紅線表示真實股價\n",
    "plt.plot(predicted_stock_price, color = 'blue', label = 'Predicted TSM Stock Price')  # 藍線表示預測股價\n",
    "plt.title('TSM Stock Price Prediction')\n",
    "plt.xlabel('Time')\n",
    "plt.ylabel('TSM Stock Price')\n",
    "plt.legend()\n",
    "plt.show()"
   ]
  },
  {
   "cell_type": "code",
   "execution_count": null,
   "metadata": {},
   "outputs": [],
   "source": [
    "Predicted_future_list = []\n",
    "for i in range(n):\n",
    "    Predicted_future_list.append([np.nan])\n",
    "\n",
    "for i in predicted_stock_price:\n",
    "    Predicted_future_list.append(list(i))"
   ]
  },
  {
   "cell_type": "code",
   "execution_count": null,
   "metadata": {},
   "outputs": [],
   "source": [
    "dataset_all = dataset.iloc[:, 1:2].values  "
   ]
  },
  {
   "cell_type": "code",
   "execution_count": null,
   "metadata": {},
   "outputs": [],
   "source": [
    "inputs = dataset_all.reshape(-1,1)\n",
    "inputs = sc.transform(inputs)\n",
    "X_test = []\n",
    "for i in range(rolling_time, len(dataset_all)):\n",
    "    X_test.append(inputs[i-rolling_time:i, 0])\n",
    "X_test = np.array(X_test)\n",
    "X_test = np.reshape(X_test, (X_test.shape[0], X_test.shape[1], 1))\n",
    "predicted_train_stock1_price = regressor.predict(X_test)\n",
    "predicted_train_stock1_price = sc.inverse_transform(predicted_train_stock1_price)\n"
   ]
  },
  {
   "cell_type": "code",
   "execution_count": null,
   "metadata": {},
   "outputs": [],
   "source": [
    "Predicted_before_list = []\n",
    "for i in range(rolling_time):\n",
    "    Predicted_before_list.append([np.nan])\n",
    "\n",
    "for i in predicted_train_stock1_price:\n",
    "    Predicted_before_list.append(list(i))"
   ]
  },
  {
   "cell_type": "code",
   "execution_count": null,
   "metadata": {},
   "outputs": [],
   "source": [
    "plt.plot(dataset_all, color = 'red', label = 'Real TSM Stock Price')  # 紅線表示真實股價\n",
    "plt.plot(Predicted_before_list, color = 'blue', label = 'Predicted before TSM Stock Price')  # 藍線表示預測股價\n",
    "plt.plot(Predicted_future_list, color = 'green', label = 'Predicted future TSM Stock Price')  # 藍線表示預測股價\n",
    "\n",
    "\n",
    "plt.title('TSM Stock Price Prediction')\n",
    "plt.xlabel('Time')\n",
    "plt.ylabel('TSM Stock Price')\n",
    "plt.legend()\n",
    "plt.show()"
   ]
  },
  {
   "cell_type": "code",
   "execution_count": null,
   "metadata": {},
   "outputs": [],
   "source": []
  }
 ],
 "metadata": {
  "kernelspec": {
   "display_name": "Python 3",
   "language": "python",
   "name": "python3"
  },
  "language_info": {
   "codemirror_mode": {
    "name": "ipython",
    "version": 3
   },
   "file_extension": ".py",
   "mimetype": "text/x-python",
   "name": "python",
   "nbconvert_exporter": "python",
   "pygments_lexer": "ipython3",
   "version": "3.7.3"
  }
 },
 "nbformat": 4,
 "nbformat_minor": 2
}
