{
 "cells": [
  {
   "cell_type": "code",
   "execution_count": 26,
   "metadata": {},
   "outputs": [],
   "source": [
    "import pandas as pd"
   ]
  },
  {
   "cell_type": "code",
   "execution_count": 68,
   "metadata": {},
   "outputs": [],
   "source": [
    "df = pd.read_csv('./Project_CSV_raw/stock_beta.csv')"
   ]
  },
  {
   "cell_type": "code",
   "execution_count": 69,
   "metadata": {},
   "outputs": [],
   "source": [
    "df = df.rename(columns= {'追隨外資':'forei','追隨投信':'invers','KD 交叉':'KD','MACD 交叉':'MACD','均線交叉':'MA'})"
   ]
  },
  {
   "cell_type": "code",
   "execution_count": 71,
   "metadata": {},
   "outputs": [],
   "source": [
    "df = df[df['Price']=='TWO']"
   ]
  },
  {
   "cell_type": "code",
   "execution_count": 72,
   "metadata": {},
   "outputs": [],
   "source": [
    "names = ['Booling','forei','invers','KD','MACD','MA']\n",
    "for name in names:\n",
    "    A = df.groupby(\"type\")['{}'.format(name)].sum()\n",
    "    B = df.groupby(\"type\")['{}_trade'.format(name)].sum()\n",
    "    A = pd.DataFrame(A).reset_index(drop=False)\n",
    "    B = pd.DataFrame(B).reset_index(drop=False)\n",
    "    result = pd.merge(left=A,right=B,how=\"left\",on=\"type\")\n",
    "    result['mean'] = result['{}'.format(name)]/result['{}_trade'.format(name)]\n",
    "    result.to_csv('./Project_CSV_result/stock_TWO_{}.csv'.format(name))"
   ]
  },
  {
   "cell_type": "code",
   "execution_count": null,
   "metadata": {},
   "outputs": [],
   "source": []
  }
 ],
 "metadata": {
  "kernelspec": {
   "display_name": "Python 3",
   "language": "python",
   "name": "python3"
  },
  "language_info": {
   "codemirror_mode": {
    "name": "ipython",
    "version": 3
   },
   "file_extension": ".py",
   "mimetype": "text/x-python",
   "name": "python",
   "nbconvert_exporter": "python",
   "pygments_lexer": "ipython3",
   "version": "3.6.5"
  }
 },
 "nbformat": 4,
 "nbformat_minor": 2
}
