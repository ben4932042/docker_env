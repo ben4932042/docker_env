{
 "cells": [
  {
   "cell_type": "code",
   "execution_count": 39,
   "metadata": {},
   "outputs": [
    {
     "name": "stdout",
     "output_type": "stream",
     "text": [
      "Collecting matplotlib\n",
      "  Downloading matplotlib-3.2.1-cp36-cp36m-manylinux1_x86_64.whl (12.4 MB)\n",
      "\u001b[K     |████████████████████████████████| 12.4 MB 20 kB/s eta 0:00:011    |███▋                            | 1.4 MB 91 kB/s eta 0:02:01     |██████▋                         | 2.5 MB 93 kB/s eta 0:01:46     |████████                        | 3.1 MB 49 kB/s eta 0:03:10     |██████████████▌                 | 5.6 MB 115 kB/s eta 0:00:59     |██████████████▉                 | 5.8 MB 110 kB/s eta 0:01:00     |████████████████▋               | 6.4 MB 274 kB/s eta 0:00:22     |█████████████████▌              | 6.8 MB 225 kB/s eta 0:00:26     |████████████████████            | 7.7 MB 261 kB/s eta 0:00:18     |█████████████████████████▌      | 9.9 MB 59 kB/s eta 0:00:43     |███████████████████████████████▎| 12.1 MB 62 kB/s eta 0:00:05\n",
      "\u001b[?25hCollecting kiwisolver>=1.0.1\n",
      "  Downloading kiwisolver-1.2.0-cp36-cp36m-manylinux1_x86_64.whl (88 kB)\n",
      "\u001b[K     |████████████████████████████████| 88 kB 684 kB/s eta 0:00:01\n",
      "\u001b[?25hCollecting cycler>=0.10\n",
      "  Downloading cycler-0.10.0-py2.py3-none-any.whl (6.5 kB)\n",
      "Requirement already satisfied: python-dateutil>=2.1 in /opt/conda/lib/python3.6/site-packages (from matplotlib) (2.7.3)\n",
      "Collecting pyparsing!=2.0.4,!=2.1.2,!=2.1.6,>=2.0.1\n",
      "  Downloading pyparsing-2.4.7-py2.py3-none-any.whl (67 kB)\n",
      "\u001b[K     |████████████████████████████████| 67 kB 167 kB/s eta 0:00:011\n",
      "\u001b[?25hRequirement already satisfied: numpy>=1.11 in /opt/conda/lib/python3.6/site-packages (from matplotlib) (1.15.4)\n",
      "Requirement already satisfied: six in /opt/conda/lib/python3.6/site-packages (from cycler>=0.10->matplotlib) (1.11.0)\n",
      "Installing collected packages: kiwisolver, cycler, pyparsing, matplotlib\n",
      "Successfully installed cycler-0.10.0 kiwisolver-1.2.0 matplotlib-3.2.1 pyparsing-2.4.7\n"
     ]
    }
   ],
   "source": [
    "!pip install matplotlib"
   ]
  },
  {
   "cell_type": "code",
   "execution_count": 41,
   "metadata": {},
   "outputs": [],
   "source": [
    "from sklearn.ensemble import RandomForestClassifier\n",
    "from sklearn.model_selection import train_test_split\n",
    "import numpy as np\n",
    "import pandas as pd\n",
    "import matplotlib.pyplot as plt\n",
    "%matplotlib inline"
   ]
  },
  {
   "cell_type": "code",
   "execution_count": 158,
   "metadata": {},
   "outputs": [],
   "source": [
    "Test = pd.read_csv('./Justice.csv').drop(['Time'],axis = 1)"
   ]
  },
  {
   "cell_type": "code",
   "execution_count": 159,
   "metadata": {},
   "outputs": [
    {
     "data": {
      "text/plain": [
       "0       同意\n",
       "1       普通\n",
       "2       同意\n",
       "3       普通\n",
       "4     非常同意\n",
       "5       普通\n",
       "6       同意\n",
       "7       同意\n",
       "8       普通\n",
       "9       同意\n",
       "10      同意\n",
       "11      同意\n",
       "12      普通\n",
       "13      普通\n",
       "14      同意\n",
       "15      普通\n",
       "16      普通\n",
       "17      同意\n",
       "18      同意\n",
       "19      同意\n",
       "Name: T, dtype: object"
      ]
     },
     "execution_count": 159,
     "metadata": {},
     "output_type": "execute_result"
    }
   ],
   "source": [
    "Test['T'].head(20)"
   ]
  },
  {
   "cell_type": "code",
   "execution_count": 160,
   "metadata": {},
   "outputs": [
    {
     "data": {
      "text/plain": [
       "Index(['Sex', 'Age', 'eduation', 'Job', 'stage', 'Money', 'Target', 'A', 'B',\n",
       "       'C', 'D', 'E', 'F', 'G', 'H', 'I', 'J', 'K', 'L', 'M', 'N', 'O', 'P',\n",
       "       'Q', 'R', 'S', 'T', 'U', 'V', 'W', 'X', 'Y', 'Z', 'AA', 'AB', 'AC',\n",
       "       'AD', 'AE', 'AF', 'AG', 'AH', 'AI', 'AJ', 'AK'],\n",
       "      dtype='object')"
      ]
     },
     "execution_count": 160,
     "metadata": {},
     "output_type": "execute_result"
    }
   ],
   "source": [
    "Test.columns"
   ]
  },
  {
   "cell_type": "markdown",
   "metadata": {},
   "source": [
    "# 整理資料"
   ]
  },
  {
   "cell_type": "code",
   "execution_count": 165,
   "metadata": {
    "scrolled": false
   },
   "outputs": [],
   "source": [
    "Test['Sex'] = Test.Sex.replace('女',0).replace('男',1)\n",
    "Test['Age'] = Test.Age.replace('16~20歲',0).replace('21~30歲',1).replace('31~40歲',2).replace('41~50歲',3).replace('51歲以上',4)\n",
    "\n",
    "Test['eduation'] = Test.eduation.replace('國中以下',0).replace('高中(職)',1).replace('大專院校',2)\\\n",
    "                    .replace('大學',3).replace('碩士以上',4)\n",
    "\n",
    "Test['Job'] = Test.Job.replace('軍公教',0).replace('製造業',1).replace('醫事人員','服務業').replace('運輸駕駛員','服務業').replace('服務業',2).replace('資訊',3)\\\n",
    "                    .replace('金融業',4).replace('出版','大眾傳播業').replace('大眾傳播業',5).replace('退休人員','自由業')\\\n",
    "                    .replace('設計相關','自由業').replace('自由業',6).replace('學生',7)\n",
    "\n",
    "Test['stage'] = Test.stage.replace('全職',0).replace('打工','兼職').replace('兼職',1).replace('實習',2).replace('已退休','待業').replace('不存在','待業').replace('待業',3).replace('工讀','全職學生').replace('全職學生',4)\n",
    "\n",
    "Test['Money'] = Test.Money.replace('20000元以下',0).replace('20001~30000元',1).replace('30001~40000元',2)\\\n",
    "                    .replace('40001~50000元',3).replace('50001元以上',4)\n",
    "\n",
    "Test['Target'] = Test.Target.replace('否',0).replace('是',1)\n",
    "\n",
    "Test['A']= Test.A.replace('非常同意',2).replace('同意',1).replace('普通',0).replace('不同意',-1).replace('非常不同意',-2)\n",
    "Test['B']= Test.B.replace('非常同意',2).replace('同意',1).replace('普通',0).replace('不同意',-1).replace('非常不同意',-2)\n",
    "Test['C']= Test.C.replace('非常同意',2).replace('同意',1).replace('普通',0).replace('不同意',-1).replace('非常不同意',-2)\n",
    "Test['D']= Test.D.replace('非常同意',2).replace('同意',1).replace('普通',0).replace('不同意',-1).replace('非常不同意',-2)\n",
    "Test['E']= Test.E.replace('非常同意',2).replace('同意',1).replace('普通',0).replace('不同意',-1).replace('非常不同意',-2)\n",
    "Test['F']= Test.F.replace('非常同意',2).replace('同意',1).replace('普通',0).replace('不同意',-1).replace('非常不同意',-2)\n",
    "Test['G']= Test.G.replace('非常同意',2).replace('同意',1).replace('普通',0).replace('不同意',-1).replace('非常不同意',-2)\n",
    "Test['H']= Test.H.replace('非常同意',2).replace('同意',1).replace('普通',0).replace('不同意',-1).replace('非常不同意',-2)\n",
    "Test['I']= Test.I.replace('非常同意',2).replace('同意',1).replace('普通',0).replace('不同意',-1).replace('非常不同意',-2)\n",
    "Test['J']= Test.J.replace('非常同意',2).replace('同意',1).replace('普通',0).replace('不同意',-1).replace('非常不同意',-2)\n",
    "Test['K']= Test.K.replace('非常同意',2).replace('同意',1).replace('普通',0).replace('不同意',-1).replace('非常不同意',-2)\n",
    "Test['L']= Test.L.replace('非常同意',2).replace('同意',1).replace('普通',0).replace('不同意',-1).replace('非常不同意',-2)\n",
    "Test['M']= Test.M.replace('非常同意',2).replace('同意',1).replace('普通',0).replace('不同意',-1).replace('非常不同意',-2)\n",
    "Test['N']= Test.N.replace('非常同意',2).replace('同意',1).replace('普通',0).replace('不同意',-1).replace('非常不同意',-2)\n",
    "Test['O']= Test.O.replace('非常同意',2).replace('同意',1).replace('普通',0).replace('不同意',-1).replace('非常不同意',-2)\n",
    "Test['P']= Test.P.replace('非常同意',2).replace('同意',1).replace('普通',0).replace('不同意',-1).replace('非常不同意',-2)\n",
    "Test['Q']= Test.Q.replace('非常同意',2).replace('同意',1).replace('普通',0).replace('不同意',-1).replace('非常不同意',-2)\n",
    "Test['R']= Test.R.replace('非常同意',2).replace('同意',1).replace('普通',0).replace('不同意',-1).replace('非常不同意',-2)\n",
    "Test['S']= Test.S.replace('非常同意',2).replace('同意',1).replace('普通',0).replace('不同意',-1).replace('非常不同意',-2)\n",
    "# Test['T']= Test.T.replace('非常同意',2).replace('同意',1).replace('普通',0).replace('不同意',-1).replace('非常不同意',-2)\n",
    "Test['U']= Test.U.replace('非常同意',2).replace('同意',1).replace('普通',0).replace('不同意',-1).replace('非常不同意',-2)\n",
    "Test['V']= Test.V.replace('非常同意',2).replace('同意',1).replace('普通',0).replace('不同意',-1).replace('非常不同意',-2)\n",
    "Test['W']= Test.W.replace('非常同意',2).replace('同意',1).replace('普通',0).replace('不同意',-1).replace('非常不同意',-2)\n",
    "Test['X']= Test.X.replace('非常同意',2).replace('同意',1).replace('普通',0).replace('不同意',-1).replace('非常不同意',-2)\n",
    "Test['Y']= Test.Y.replace('非常同意',2).replace('同意',1).replace('普通',0).replace('不同意',-1).replace('非常不同意',-2)\n",
    "Test['Z']= Test.Z.replace('非常同意',2).replace('同意',1).replace('普通',0).replace('不同意',-1).replace('非常不同意',-2)\n",
    "Test['AA']= Test.AA.replace('非常同意',2).replace('同意',1).replace('普通',0).replace('不同意',-1).replace('非常不同意',-2)\n",
    "Test['AB']= Test.AB.replace('非常同意',2).replace('同意',1).replace('普通',0).replace('不同意',-1).replace('非常不同意',-2)\n",
    "Test['AC']= Test.AC.replace('非常同意',2).replace('同意',1).replace('普通',0).replace('不同意',-1).replace('非常不同意',-2)\n",
    "Test['AD']= Test.AD.replace('非常同意',2).replace('同意',1).replace('普通',0).replace('不同意',-1).replace('非常不同意',-2)\n",
    "Test['AE']= Test.AE.replace('非常同意',2).replace('同意',1).replace('普通',0).replace('不同意',-1).replace('非常不同意',-2)\n",
    "Test['AF']= Test.AF.replace('非常同意',2).replace('同意',1).replace('普通',0).replace('不同意',-1).replace('非常不同意',-2)\n",
    "Test['AG']= Test.AG.replace('非常同意',2).replace('同意',1).replace('普通',0).replace('不同意',-1).replace('非常不同意',-2)\n",
    "Test['AH']= Test.AH.replace('非常同意',2).replace('同意',1).replace('普通',0).replace('不同意',-1).replace('非常不同意',-2)\n",
    "Test['AI']= Test.AI.replace('非常同意',2).replace('同意',1).replace('普通',0).replace('不同意',-1).replace('非常不同意',-2)\n",
    "Test['AJ']= Test.AJ.replace('非常同意',2).replace('同意',1).replace('普通',0).replace('不同意',-1).replace('非常不同意',-2)\n",
    "Test['AK']= Test.AK.replace('非常同意',2).replace('同意',1).replace('普通',0).replace('不同意',-1).replace('非常不同意',-2)\n"
   ]
  },
  {
   "cell_type": "code",
   "execution_count": 167,
   "metadata": {
    "scrolled": true
   },
   "outputs": [],
   "source": [
    "Test = Test.drop(['T'],axis = 1)  # <----這欄有問題，所以刪掉"
   ]
  },
  {
   "cell_type": "markdown",
   "metadata": {},
   "source": [
    "#  交叉表"
   ]
  },
  {
   "cell_type": "code",
   "execution_count": 180,
   "metadata": {
    "scrolled": true
   },
   "outputs": [
    {
     "data": {
      "text/html": [
       "<div>\n",
       "<style scoped>\n",
       "    .dataframe tbody tr th:only-of-type {\n",
       "        vertical-align: middle;\n",
       "    }\n",
       "\n",
       "    .dataframe tbody tr th {\n",
       "        vertical-align: top;\n",
       "    }\n",
       "\n",
       "    .dataframe thead tr th {\n",
       "        text-align: left;\n",
       "    }\n",
       "\n",
       "    .dataframe thead tr:last-of-type th {\n",
       "        text-align: right;\n",
       "    }\n",
       "</style>\n",
       "<table border=\"1\" class=\"dataframe\">\n",
       "  <thead>\n",
       "    <tr>\n",
       "      <th></th>\n",
       "      <th colspan=\"2\" halign=\"left\">Age</th>\n",
       "      <th colspan=\"2\" halign=\"left\">Sex</th>\n",
       "    </tr>\n",
       "    <tr>\n",
       "      <th>Target</th>\n",
       "      <th>0</th>\n",
       "      <th>1</th>\n",
       "      <th>0</th>\n",
       "      <th>1</th>\n",
       "    </tr>\n",
       "    <tr>\n",
       "      <th>AK</th>\n",
       "      <th></th>\n",
       "      <th></th>\n",
       "      <th></th>\n",
       "      <th></th>\n",
       "    </tr>\n",
       "  </thead>\n",
       "  <tbody>\n",
       "    <tr>\n",
       "      <th>-2</th>\n",
       "      <td>1.000000</td>\n",
       "      <td>0.333333</td>\n",
       "      <td>1.000000</td>\n",
       "      <td>0.000000</td>\n",
       "    </tr>\n",
       "    <tr>\n",
       "      <th>-1</th>\n",
       "      <td>1.375000</td>\n",
       "      <td>0.545455</td>\n",
       "      <td>0.625000</td>\n",
       "      <td>0.090909</td>\n",
       "    </tr>\n",
       "    <tr>\n",
       "      <th>0</th>\n",
       "      <td>0.897959</td>\n",
       "      <td>0.796610</td>\n",
       "      <td>0.448980</td>\n",
       "      <td>0.237288</td>\n",
       "    </tr>\n",
       "    <tr>\n",
       "      <th>1</th>\n",
       "      <td>0.738095</td>\n",
       "      <td>1.088000</td>\n",
       "      <td>0.369048</td>\n",
       "      <td>0.336000</td>\n",
       "    </tr>\n",
       "    <tr>\n",
       "      <th>2</th>\n",
       "      <td>0.608696</td>\n",
       "      <td>0.903226</td>\n",
       "      <td>0.217391</td>\n",
       "      <td>0.516129</td>\n",
       "    </tr>\n",
       "  </tbody>\n",
       "</table>\n",
       "</div>"
      ],
      "text/plain": [
       "             Age                 Sex          \n",
       "Target         0         1         0         1\n",
       "AK                                            \n",
       "-2      1.000000  0.333333  1.000000  0.000000\n",
       "-1      1.375000  0.545455  0.625000  0.090909\n",
       " 0      0.897959  0.796610  0.448980  0.237288\n",
       " 1      0.738095  1.088000  0.369048  0.336000\n",
       " 2      0.608696  0.903226  0.217391  0.516129"
      ]
     },
     "execution_count": 180,
     "metadata": {},
     "output_type": "execute_result"
    }
   ],
   "source": [
    "Test.pivot_table(values=['Sex','Age'],index=['AK'],columns='Target')"
   ]
  },
  {
   "cell_type": "markdown",
   "metadata": {},
   "source": [
    "# 隨機森林"
   ]
  },
  {
   "cell_type": "code",
   "execution_count": 175,
   "metadata": {},
   "outputs": [
    {
     "data": {
      "text/plain": [
       "RandomForestClassifier(bootstrap=True, class_weight=None, criterion='gini',\n",
       "            max_depth=None, max_features='auto', max_leaf_nodes=None,\n",
       "            min_impurity_decrease=0.0, min_impurity_split=None,\n",
       "            min_samples_leaf=50, min_samples_split=2,\n",
       "            min_weight_fraction_leaf=0.0, n_estimators=800, n_jobs=-1,\n",
       "            oob_score=False, random_state=2, verbose=0, warm_start=False)"
      ]
     },
     "execution_count": 175,
     "metadata": {},
     "output_type": "execute_result"
    }
   ],
   "source": [
    "X = Test.drop(['Target','Sex',\n",
    " 'Age',\n",
    " 'eduation',\n",
    " 'Job',\n",
    " 'stage',\n",
    " 'Money','U', 'V', 'W', 'X', 'Y',\n",
    "       'AD', 'AE', 'AF', 'AG', 'AH', 'AI', 'AJ', 'AK','C','S','K'],axis =1).values\n",
    "y = Test['Target'].values\n",
    "X_train,X_test,y_train,y_test=train_test_split(X,y,test_size=0.3) #測試資料比例\n",
    "\n",
    "rfc=RandomForestClassifier(n_estimators = 800,n_jobs = -1,random_state =2, min_samples_leaf = 50)\n",
    "rfc.fit(X_train,y_train)"
   ]
  },
  {
   "cell_type": "code",
   "execution_count": 176,
   "metadata": {},
   "outputs": [
    {
     "data": {
      "text/plain": [
       "0.6890756302521008"
      ]
     },
     "execution_count": 176,
     "metadata": {},
     "output_type": "execute_result"
    }
   ],
   "source": [
    "y_predict=rfc.predict(X_test)\n",
    "# y_predict\n",
    "rfc.score(X_test,y_test)"
   ]
  },
  {
   "cell_type": "code",
   "execution_count": 177,
   "metadata": {},
   "outputs": [
    {
     "data": {
      "text/plain": [
       "array([0.12797128, 0.06270704, 0.04199904, 0.11064396, 0.20505579,\n",
       "       0.06613845, 0.05696788, 0.01806842, 0.01004137, 0.02619991,\n",
       "       0.00495938, 0.01201965, 0.01816225, 0.01877141, 0.00777738,\n",
       "       0.02051781, 0.01680928, 0.097566  , 0.02808733, 0.04953638])"
      ]
     },
     "execution_count": 177,
     "metadata": {},
     "output_type": "execute_result"
    }
   ],
   "source": [
    "imp=rfc.feature_importances_\n",
    "imp"
   ]
  },
  {
   "cell_type": "code",
   "execution_count": 178,
   "metadata": {
    "scrolled": true
   },
   "outputs": [
    {
     "data": {
      "text/plain": [
       "['A',\n",
       " 'B',\n",
       " 'D',\n",
       " 'E',\n",
       " 'F',\n",
       " 'G',\n",
       " 'H',\n",
       " 'I',\n",
       " 'J',\n",
       " 'L',\n",
       " 'M',\n",
       " 'N',\n",
       " 'O',\n",
       " 'P',\n",
       " 'Q',\n",
       " 'R',\n",
       " 'Z',\n",
       " 'AA',\n",
       " 'AB',\n",
       " 'AC']"
      ]
     },
     "execution_count": 178,
     "metadata": {},
     "output_type": "execute_result"
    }
   ],
   "source": [
    "names=[i for i in Test.drop(['Target','Sex','Age',\n",
    " 'eduation',\n",
    " 'Job',\n",
    " 'stage',\n",
    " 'Money', 'U', 'V', 'W', 'X', 'Y',\n",
    "       'AD', 'AE', 'AF', 'AG', 'AH', 'AI', 'AJ', 'AK','C','S','K'],axis =1).columns]\n",
    "names"
   ]
  },
  {
   "cell_type": "code",
   "execution_count": 179,
   "metadata": {},
   "outputs": [
    {
     "data": {
      "image/png": "[encoded data removed]",
      "text/plain": [
       "<Figure size 432x288 with 1 Axes>"
      ]
     },
     "metadata": {},
     "output_type": "display_data"
    }
   ],
   "source": [
    "zip(imp,names)\n",
    "imp, names= zip(*sorted(zip(imp,names)))\n",
    "plt.barh(range(len(names)),imp,align='center')\n",
    "plt.yticks(range(len(names)),names)\n",
    "plt.xlabel('Importance of Features')\n",
    "plt.ylabel('Features')\n",
    "plt.title('Importance of Each Feature')\n",
    "plt.show()"
   ]
  },
  {
   "cell_type": "code",
   "execution_count": null,
   "metadata": {},
   "outputs": [],
   "source": []
  }
 ],
 "metadata": {
  "kernelspec": {
   "display_name": "Python 3",
   "language": "python",
   "name": "python3"
  },
  "language_info": {
   "codemirror_mode": {
    "name": "ipython",
    "version": 3
   },
   "file_extension": ".py",
   "mimetype": "text/x-python",
   "name": "python",
   "nbconvert_exporter": "python",
   "pygments_lexer": "ipython3",
   "version": "3.6.5"
  }
 },
 "nbformat": 4,
 "nbformat_minor": 2
}
