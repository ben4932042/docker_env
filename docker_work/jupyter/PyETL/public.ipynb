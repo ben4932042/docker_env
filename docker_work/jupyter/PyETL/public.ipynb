{
 "cells": [
  {
   "cell_type": "code",
   "execution_count": 2,
   "metadata": {},
   "outputs": [],
   "source": [
    "import pandas as pd\n",
    "import requests\n",
    "from bs4 import BeautifulSoup\n",
    "import numpy as np\n",
    "import json"
   ]
  },
  {
   "cell_type": "code",
   "execution_count": 41,
   "metadata": {},
   "outputs": [
    {
     "data": {
      "text/html": [
       "<div>\n",
       "<style scoped>\n",
       "    .dataframe tbody tr th:only-of-type {\n",
       "        vertical-align: middle;\n",
       "    }\n",
       "\n",
       "    .dataframe tbody tr th {\n",
       "        vertical-align: top;\n",
       "    }\n",
       "\n",
       "    .dataframe thead th {\n",
       "        text-align: right;\n",
       "    }\n",
       "</style>\n",
       "<table border=\"1\" class=\"dataframe\">\n",
       "  <thead>\n",
       "    <tr style=\"text-align: right;\">\n",
       "      <th></th>\n",
       "      <th>date</th>\n",
       "      <th>volume</th>\n",
       "      <th>open</th>\n",
       "      <th>high</th>\n",
       "      <th>low</th>\n",
       "      <th>close</th>\n",
       "      <th>stockiid</th>\n",
       "    </tr>\n",
       "  </thead>\n",
       "  <tbody>\n",
       "    <tr>\n",
       "      <th>0</th>\n",
       "      <td>109/06/01</td>\n",
       "      <td>1,126,489</td>\n",
       "      <td>3,880.00</td>\n",
       "      <td>4,070.00</td>\n",
       "      <td>3,865.00</td>\n",
       "      <td>4,065.00</td>\n",
       "      <td>3008</td>\n",
       "    </tr>\n",
       "    <tr>\n",
       "      <th>1</th>\n",
       "      <td>109/06/02</td>\n",
       "      <td>1,012,554</td>\n",
       "      <td>4,095.00</td>\n",
       "      <td>4,205.00</td>\n",
       "      <td>4,060.00</td>\n",
       "      <td>4,085.00</td>\n",
       "      <td>3008</td>\n",
       "    </tr>\n",
       "    <tr>\n",
       "      <th>2</th>\n",
       "      <td>109/06/03</td>\n",
       "      <td>1,191,133</td>\n",
       "      <td>4,200.00</td>\n",
       "      <td>4,300.00</td>\n",
       "      <td>4,185.00</td>\n",
       "      <td>4,270.00</td>\n",
       "      <td>3008</td>\n",
       "    </tr>\n",
       "    <tr>\n",
       "      <th>3</th>\n",
       "      <td>109/06/04</td>\n",
       "      <td>553,383</td>\n",
       "      <td>4,320.00</td>\n",
       "      <td>4,330.00</td>\n",
       "      <td>4,230.00</td>\n",
       "      <td>4,240.00</td>\n",
       "      <td>3008</td>\n",
       "    </tr>\n",
       "    <tr>\n",
       "      <th>4</th>\n",
       "      <td>109/06/05</td>\n",
       "      <td>602,101</td>\n",
       "      <td>4,345.00</td>\n",
       "      <td>4,345.00</td>\n",
       "      <td>4,245.00</td>\n",
       "      <td>4,270.00</td>\n",
       "      <td>3008</td>\n",
       "    </tr>\n",
       "  </tbody>\n",
       "</table>\n",
       "</div>"
      ],
      "text/plain": [
       "        date     volume      open      high       low     close stockiid\n",
       "0  109/06/01  1,126,489  3,880.00  4,070.00  3,865.00  4,065.00     3008\n",
       "1  109/06/02  1,012,554  4,095.00  4,205.00  4,060.00  4,085.00     3008\n",
       "2  109/06/03  1,191,133  4,200.00  4,300.00  4,185.00  4,270.00     3008\n",
       "3  109/06/04    553,383  4,320.00  4,330.00  4,230.00  4,240.00     3008\n",
       "4  109/06/05    602,101  4,345.00  4,345.00  4,245.00  4,270.00     3008"
      ]
     },
     "execution_count": 41,
     "metadata": {},
     "output_type": "execute_result"
    }
   ],
   "source": [
    "url = 'https://www.twse.com.tw/exchangeReport/STOCK_DAY?response=json&date=20200601&stockNo={stockiid}'.format(stockiid=3008)\n",
    "DATA = json.loads(BeautifulSoup(requests.get(url = url).text,'html.parser').text)        \n",
    "df = pd.DataFrame(np.array(DATA['data'])).rename(index=str, columns={0: \"date\", 1: \"volume\",3: \"open\",4: \"high\",5: \"low\",6: \"close\"})\\\n",
    ".drop([2,7,8],axis = 1)\n",
    "df['stockiid'] = '3008'\n",
    "\n",
    "\n",
    "df"
   ]
  },
  {
   "cell_type": "code",
   "execution_count": 42,
   "metadata": {},
   "outputs": [],
   "source": []
  },
  {
   "cell_type": "code",
   "execution_count": 43,
   "metadata": {},
   "outputs": [
    {
     "data": {
      "text/html": [
       "<div>\n",
       "<style scoped>\n",
       "    .dataframe tbody tr th:only-of-type {\n",
       "        vertical-align: middle;\n",
       "    }\n",
       "\n",
       "    .dataframe tbody tr th {\n",
       "        vertical-align: top;\n",
       "    }\n",
       "\n",
       "    .dataframe thead th {\n",
       "        text-align: right;\n",
       "    }\n",
       "</style>\n",
       "<table border=\"1\" class=\"dataframe\">\n",
       "  <thead>\n",
       "    <tr style=\"text-align: right;\">\n",
       "      <th></th>\n",
       "      <th>date</th>\n",
       "      <th>volume</th>\n",
       "      <th>open</th>\n",
       "      <th>high</th>\n",
       "      <th>low</th>\n",
       "      <th>close</th>\n",
       "      <th>stockiid</th>\n",
       "    </tr>\n",
       "  </thead>\n",
       "  <tbody>\n",
       "    <tr>\n",
       "      <th>0</th>\n",
       "      <td>2020/06/01</td>\n",
       "      <td>1,126,489</td>\n",
       "      <td>3,880.00</td>\n",
       "      <td>4,070.00</td>\n",
       "      <td>3,865.00</td>\n",
       "      <td>4,065.00</td>\n",
       "      <td>3008</td>\n",
       "    </tr>\n",
       "    <tr>\n",
       "      <th>1</th>\n",
       "      <td>2020/06/02</td>\n",
       "      <td>1,012,554</td>\n",
       "      <td>4,095.00</td>\n",
       "      <td>4,205.00</td>\n",
       "      <td>4,060.00</td>\n",
       "      <td>4,085.00</td>\n",
       "      <td>3008</td>\n",
       "    </tr>\n",
       "    <tr>\n",
       "      <th>2</th>\n",
       "      <td>2020/06/03</td>\n",
       "      <td>1,191,133</td>\n",
       "      <td>4,200.00</td>\n",
       "      <td>4,300.00</td>\n",
       "      <td>4,185.00</td>\n",
       "      <td>4,270.00</td>\n",
       "      <td>3008</td>\n",
       "    </tr>\n",
       "    <tr>\n",
       "      <th>3</th>\n",
       "      <td>2020/06/04</td>\n",
       "      <td>553,383</td>\n",
       "      <td>4,320.00</td>\n",
       "      <td>4,330.00</td>\n",
       "      <td>4,230.00</td>\n",
       "      <td>4,240.00</td>\n",
       "      <td>3008</td>\n",
       "    </tr>\n",
       "    <tr>\n",
       "      <th>4</th>\n",
       "      <td>2020/06/05</td>\n",
       "      <td>602,101</td>\n",
       "      <td>4,345.00</td>\n",
       "      <td>4,345.00</td>\n",
       "      <td>4,245.00</td>\n",
       "      <td>4,270.00</td>\n",
       "      <td>3008</td>\n",
       "    </tr>\n",
       "  </tbody>\n",
       "</table>\n",
       "</div>"
      ],
      "text/plain": [
       "         date     volume      open      high       low     close stockiid\n",
       "0  2020/06/01  1,126,489  3,880.00  4,070.00  3,865.00  4,065.00     3008\n",
       "1  2020/06/02  1,012,554  4,095.00  4,205.00  4,060.00  4,085.00     3008\n",
       "2  2020/06/03  1,191,133  4,200.00  4,300.00  4,185.00  4,270.00     3008\n",
       "3  2020/06/04    553,383  4,320.00  4,330.00  4,230.00  4,240.00     3008\n",
       "4  2020/06/05    602,101  4,345.00  4,345.00  4,245.00  4,270.00     3008"
      ]
     },
     "execution_count": 43,
     "metadata": {},
     "output_type": "execute_result"
    }
   ],
   "source": [
    "df"
   ]
  },
  {
   "cell_type": "code",
   "execution_count": null,
   "metadata": {},
   "outputs": [],
   "source": []
  },
  {
   "cell_type": "code",
   "execution_count": 12,
   "metadata": {},
   "outputs": [],
   "source": []
  },
  {
   "cell_type": "code",
   "execution_count": 15,
   "metadata": {},
   "outputs": [
    {
     "data": {
      "text/plain": [
       "str"
      ]
     },
     "execution_count": 15,
     "metadata": {},
     "output_type": "execute_result"
    }
   ],
   "source": [
    "url = 'https://www.twse.com.tw/exchangeReport/STOCK_DAY?response=json&date=20160201&stockNo=2330'"
   ]
  },
  {
   "cell_type": "code",
   "execution_count": 28,
   "metadata": {},
   "outputs": [],
   "source": [
    "import random"
   ]
  },
  {
   "cell_type": "code",
   "execution_count": 30,
   "metadata": {},
   "outputs": [
    {
     "data": {
      "text/plain": [
       "0"
      ]
     },
     "execution_count": 30,
     "metadata": {},
     "output_type": "execute_result"
    }
   ],
   "source": [
    "random.choice([0.5,0.6,0,7,1,4])"
   ]
  },
  {
   "cell_type": "raw",
   "metadata": {},
   "source": []
  }
 ],
 "metadata": {
  "kernelspec": {
   "display_name": "Python 3",
   "language": "python",
   "name": "python3"
  },
  "language_info": {
   "codemirror_mode": {
    "name": "ipython",
    "version": 3
   },
   "file_extension": ".py",
   "mimetype": "text/x-python",
   "name": "python",
   "nbconvert_exporter": "python",
   "pygments_lexer": "ipython3",
   "version": "3.6.5"
  }
 },
 "nbformat": 4,
 "nbformat_minor": 2
}
