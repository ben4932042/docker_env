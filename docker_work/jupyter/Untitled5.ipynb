{
 "cells": [
  {
   "cell_type": "code",
   "execution_count": 1,
   "metadata": {},
   "outputs": [],
   "source": [
    "import pandas as pd"
   ]
  },
  {
   "cell_type": "code",
   "execution_count": 3,
   "metadata": {},
   "outputs": [],
   "source": [
    "df = pd.read_csv('./2.csv')"
   ]
  },
  {
   "cell_type": "code",
   "execution_count": 6,
   "metadata": {},
   "outputs": [
    {
     "data": {
      "text/html": [
       "<div>\n",
       "<style scoped>\n",
       "    .dataframe tbody tr th:only-of-type {\n",
       "        vertical-align: middle;\n",
       "    }\n",
       "\n",
       "    .dataframe tbody tr th {\n",
       "        vertical-align: top;\n",
       "    }\n",
       "\n",
       "    .dataframe thead th {\n",
       "        text-align: right;\n",
       "    }\n",
       "</style>\n",
       "<table border=\"1\" class=\"dataframe\">\n",
       "  <thead>\n",
       "    <tr style=\"text-align: right;\">\n",
       "      <th></th>\n",
       "      <th>0</th>\n",
       "      <th>1</th>\n",
       "      <th>2</th>\n",
       "      <th>3</th>\n",
       "      <th>4</th>\n",
       "      <th>5</th>\n",
       "      <th>6</th>\n",
       "      <th>7</th>\n",
       "      <th>8</th>\n",
       "      <th>9</th>\n",
       "      <th>...</th>\n",
       "      <th>34</th>\n",
       "      <th>35</th>\n",
       "      <th>36</th>\n",
       "      <th>37</th>\n",
       "      <th>38</th>\n",
       "      <th>39</th>\n",
       "      <th>40</th>\n",
       "      <th>41</th>\n",
       "      <th>42</th>\n",
       "      <th>43</th>\n",
       "    </tr>\n",
       "  </thead>\n",
       "  <tbody>\n",
       "    <tr>\n",
       "      <th>0</th>\n",
       "      <td>3C</td>\n",
       "      <td>光學</td>\n",
       "      <td>三腳架</td>\n",
       "      <td>三腳架+推薦</td>\n",
       "      <td>【3C比較】推薦2020年腳架人氣排行榜10選！【材質、穩定度 ...</td>\n",
       "      <td>https://linky.tw/18150/</td>\n",
       "      <td>推薦十大三腳架人氣排行榜【2020年最新版】 | mybest</td>\n",
       "      <td>https://my-best.tw/20308</td>\n",
       "      <td>專業攝影腳架- PChome 24h購物</td>\n",
       "      <td>https://24h.pchome.com.tw/region/DGCR</td>\n",
       "      <td>...</td>\n",
       "      <td>三腳架- 2020年人氣推薦| 露天拍賣</td>\n",
       "      <td>https://find.ruten.com.tw/c/0008000500060002</td>\n",
       "      <td>三腳架十大品牌推薦三腳架分類介紹- 每日頭條</td>\n",
       "      <td>https://kknews.cc/zh-tw/digital/j6kvkre.html</td>\n",
       "      <td>2020 網友一致推薦最便宜的手機腳架就在生活市集</td>\n",
       "      <td>https://m.buy123.com.tw/site/search?q=%E6%89%8...</td>\n",
       "      <td>輕裝時代三腳架推薦 - Taobao - 淘宝网</td>\n",
       "      <td>https://world.taobao.com/product/%E8%BC%95%E8%...</td>\n",
       "      <td>NaN</td>\n",
       "      <td>NaN</td>\n",
       "    </tr>\n",
       "  </tbody>\n",
       "</table>\n",
       "<p>1 rows × 44 columns</p>\n",
       "</div>"
      ],
      "text/plain": [
       "    0   1    2       3                                    4  \\\n",
       "0  3C  光學  三腳架  三腳架+推薦  【3C比較】推薦2020年腳架人氣排行榜10選！【材質、穩定度 ...   \n",
       "\n",
       "                         5                                6  \\\n",
       "0  https://linky.tw/18150/  推薦十大三腳架人氣排行榜【2020年最新版】 | mybest   \n",
       "\n",
       "                          7                     8  \\\n",
       "0  https://my-best.tw/20308  專業攝影腳架- PChome 24h購物   \n",
       "\n",
       "                                       9 ...                     34  \\\n",
       "0  https://24h.pchome.com.tw/region/DGCR ...   三腳架- 2020年人氣推薦| 露天拍賣   \n",
       "\n",
       "                                             35                      36  \\\n",
       "0  https://find.ruten.com.tw/c/0008000500060002  三腳架十大品牌推薦三腳架分類介紹- 每日頭條   \n",
       "\n",
       "                                             37                         38  \\\n",
       "0  https://kknews.cc/zh-tw/digital/j6kvkre.html  2020 網友一致推薦最便宜的手機腳架就在生活市集   \n",
       "\n",
       "                                                  39  \\\n",
       "0  https://m.buy123.com.tw/site/search?q=%E6%89%8...   \n",
       "\n",
       "                         40  \\\n",
       "0  輕裝時代三腳架推薦 - Taobao - 淘宝网   \n",
       "\n",
       "                                                  41   42   43  \n",
       "0  https://world.taobao.com/product/%E8%BC%95%E8%...  NaN  NaN  \n",
       "\n",
       "[1 rows x 44 columns]"
      ]
     },
     "execution_count": 6,
     "metadata": {},
     "output_type": "execute_result"
    }
   ],
   "source": [
    "df.head(1)"
   ]
  },
  {
   "cell_type": "code",
   "execution_count": 10,
   "metadata": {},
   "outputs": [
    {
     "data": {
      "text/plain": [
       "'三腳架+推薦'"
      ]
     },
     "execution_count": 10,
     "metadata": {},
     "output_type": "execute_result"
    }
   ],
   "source": [
    "\n",
    "\n",
    "\n"
   ]
  },
  {
   "cell_type": "code",
   "execution_count": 22,
   "metadata": {},
   "outputs": [
    {
     "name": "stdout",
     "output_type": "stream",
     "text": [
      "['3C', '光學', '三腳架', '三腳架+推薦', '【3C比較】推薦2020年腳架人氣排行榜10選！【材質、穩定度 ...', 'https://linky.tw/18150/']\n"
     ]
    }
   ],
   "source": [
    "for i in range(4,len(df.T),2):    \n",
    "    if not str(df.iloc[0][i]) == 'nan':\n",
    "        a = [\n",
    "            df.iloc[0][0],\n",
    "            df.iloc[0][1],\n",
    "            df.iloc[0][2],\n",
    "            df.iloc[0][3],\n",
    "            df.iloc[0][i],\n",
    "            df.iloc[0][i+1],\n",
    "        ]\n",
    "        print(a)\n",
    "        break\n",
    "    "
   ]
  },
  {
   "cell_type": "code",
   "execution_count": null,
   "metadata": {},
   "outputs": [],
   "source": []
  }
 ],
 "metadata": {
  "kernelspec": {
   "display_name": "Python 3",
   "language": "python",
   "name": "python3"
  },
  "language_info": {
   "codemirror_mode": {
    "name": "ipython",
    "version": 3
   },
   "file_extension": ".py",
   "mimetype": "text/x-python",
   "name": "python",
   "nbconvert_exporter": "python",
   "pygments_lexer": "ipython3",
   "version": "3.6.5"
  }
 },
 "nbformat": 4,
 "nbformat_minor": 2
}
