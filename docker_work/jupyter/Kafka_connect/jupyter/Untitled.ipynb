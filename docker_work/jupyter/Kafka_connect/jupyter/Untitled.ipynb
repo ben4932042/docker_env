{
 "cells": [
  {
   "cell_type": "code",
   "execution_count": null,
   "metadata": {},
   "outputs": [],
   "source": [
    "def kafkaproducer(server, topic, ID, query):\n",
    "    global producer\n",
    "    return_value = 0\n",
    "\n",
    "    def error_cb(err):\n",
    "        print('Error: %s' % err)\n",
    "\n",
    "    props = {\n",
    "        'bootstrap.servers': server,  # <-- 置換成要連接的Kafka集群\n",
    "        'error_cb': error_cb                    # 設定接收error訊息的callback函數\n",
    "    }\n",
    "    # 步驟2. 產生一個Kafka的Producer的實例\n",
    "    if producer is None:\n",
    "        producer = Producer(props)\n",
    "    # 步驟3. 指定想要發佈訊息的topic名稱\n",
    "    topicName = topic\n",
    "    try:\n",
    "        # produce(topic, [value], [key], [partition], [on_delivery], [timestamp], [headers])\n",
    "        producer.produce(topicName, key=ID, value=query)\n",
    "        producer.flush()\n",
    "        return_value+=1\n",
    "\n",
    "\n",
    "    except:\n",
    "        return_value = 0\n",
    "    producer.flush()\n",
    "    return return_value"
   ]
  }
 ],
 "metadata": {
  "kernelspec": {
   "display_name": "Python 3",
   "language": "python",
   "name": "python3"
  },
  "language_info": {
   "codemirror_mode": {
    "name": "ipython",
    "version": 3
   },
   "file_extension": ".py",
   "mimetype": "text/x-python",
   "name": "python",
   "nbconvert_exporter": "python",
   "pygments_lexer": "ipython3",
   "version": "3.6.5"
  }
 },
 "nbformat": 4,
 "nbformat_minor": 2
}
