{
 "cells": [
  {
   "cell_type": "markdown",
   "metadata": {},
   "source": [
    "# Producer Function"
   ]
  },
  {
   "cell_type": "code",
   "execution_count": 9,
   "metadata": {},
   "outputs": [
    {
     "name": "stdout",
     "output_type": "stream",
     "text": [
      "Requirement already satisfied: confluent_kafka in /opt/conda/lib/python3.6/site-packages (1.4.2)\r\n"
     ]
    }
   ],
   "source": [
    "!pip install confluent_kafka"
   ]
  },
  {
   "cell_type": "code",
   "execution_count": 12,
   "metadata": {},
   "outputs": [],
   "source": [
    "from confluent_kafka import Producer\n",
    "import sys\n",
    "import time\n",
    "import json\n",
    "\n",
    "\n",
    "iproducer = None\n",
    "\n",
    "def kafkaproducer(server='35.236.145.238:9092',topic='test_request',ID='User_ID',query='test'):\n",
    "    global iproducer\n",
    "    return_value = 0\n",
    "    def error_cb(err):\n",
    "        print('Error: %s' % err)\n",
    "    props = {\n",
    "        'bootstrap.servers': server,  # <-- 置換成要連接的Kafka集群\n",
    "        'error_cb': error_cb                    # 設定接收error訊息的callback函數\n",
    "    }\n",
    "    # 步驟2. 產生一個Kafka的Producer的實例\n",
    "    if iproducer is None:\n",
    "        iproducer = Producer(props)\n",
    "    # 步驟3. 指定想要發佈訊息的topic名稱\n",
    "    topicName = topic\n",
    "    try:\n",
    "        # produce(topic, [value], [key], [partition], [on_delivery], [timestamp], [headers])\n",
    "        \n",
    "        iproducer.produce(topicName, key=ID, value=query)\n",
    "\n",
    "        iproducer.flush()\n",
    "\n",
    "        return_value+=1\n",
    "    except:\n",
    "        return_value = 0\n",
    "    iproducer.flush()\n",
    "    return return_value\n"
   ]
  },
  {
   "cell_type": "code",
   "execution_count": null,
   "metadata": {},
   "outputs": [
    {
     "name": "stdout",
     "output_type": "stream",
     "text": [
      "0.054071903228759766\n",
      "0.0643308162689209\n",
      "0.08929443359375\n",
      "0.04968142509460449\n",
      "0.04860711097717285\n",
      "0.05739879608154297\n",
      "0.03794431686401367\n",
      "0.04566693305969238\n",
      "0.05740857124328613\n",
      "0.06501913070678711\n",
      "0.05070662498474121\n",
      "0.03911852836608887\n"
     ]
    }
   ],
   "source": [
    "for i in range(100):\n",
    "    start = time.time()\n",
    "    kafkaproducer(server='35.236.145.238:9092',topic='2_resquest',ID='test_ID',query='empty')\n",
    "    end = time.time()\n",
    "    print(end-start)\n",
    "    time.sleep(10)"
   ]
  },
  {
   "cell_type": "markdown",
   "metadata": {},
   "source": [
    "# Consumer Function"
   ]
  },
  {
   "cell_type": "code",
   "execution_count": 7,
   "metadata": {},
   "outputs": [],
   "source": [
    "from confluent_kafka import Consumer, KafkaException, KafkaError\n",
    "import sys\n",
    "consumer = None\n",
    "def kafkaconsumer(server='35.236.145.238:9092',groupid ='conseumer',topic='test_request1',ID='User_ID'):\n",
    "    global consumer\n",
    "    def try_decode_utf8(data):\n",
    "        if data:\n",
    "            return data.decode('utf-8')\n",
    "        else:\n",
    "            return None\n",
    "\n",
    "    def my_assign(consumer_instance, partitions):\n",
    "        for p in partitions:\n",
    "            p.offset = 0\n",
    "        consumer_instance.assign(partitions)\n",
    "\n",
    "    def error_cb(err):\n",
    "        pass\n",
    "\n",
    "    props = {\n",
    "        'bootstrap.servers': server,\n",
    "        'group.id': groupid,   \n",
    "        'auto.offset.reset': 'earliest',    \n",
    "        'session.timeout.ms': 6000,    \n",
    "        'error_cb': error_cb\n",
    "    }\n",
    "    return_answer ={}\n",
    "    if consumer is None:\n",
    "        consumer = Consumer(props)\n",
    "    topicName = topic\n",
    "    consumer.subscribe([topicName])\n",
    "    records = []\n",
    "    while len(records)==0:\n",
    "        records = consumer.consume(num_messages=1)\n",
    "        if records is None:\n",
    "            continue\n",
    "        for record in records:\n",
    "            if record is None:\n",
    "                continue\n",
    "            if record.error():\n",
    "                continue\n",
    "            else:\n",
    "                msgKey = try_decode_utf8(record.key())\n",
    "                msgValue = try_decode_utf8(record.value())\n",
    "                timestamp = record.timestamp()\n",
    "                \n",
    "                if str(msgKey) != ID:\n",
    "                    records = []\n",
    "                else:\n",
    "                    t=timestamp\n",
    "                    #return_answer[msgKey] = (msgValue,t)\n",
    "                \n",
    "    return t\n"
   ]
  },
  {
   "cell_type": "code",
   "execution_count": 8,
   "metadata": {},
   "outputs": [
    {
     "name": "stdout",
     "output_type": "stream",
     "text": [
      "counting start\n",
      "counting end\n",
      "---------------\n",
      "6.2071533203125\n",
      "(1, 1594025263350)\n"
     ]
    }
   ],
   "source": [
    "start = time.time()\n",
    "print('counting start')\n",
    "feedback=kafkaconsumer(server='35.236.145.238:9092',groupid ='t11221',topic='topicName',ID='ID')\n",
    "print('counting end')\n",
    "end = time.time()\n",
    "print('-'*15)\n",
    "print(end-start)\n",
    "print(feedback)"
   ]
  },
  {
   "cell_type": "code",
   "execution_count": null,
   "metadata": {},
   "outputs": [],
   "source": [
    "{'User_ID2': '20200617-test2','prop':}"
   ]
  },
  {
   "cell_type": "code",
   "execution_count": 14,
   "metadata": {},
   "outputs": [
    {
     "ename": "AttributeError",
     "evalue": "'str' object has no attribute 'strftime'",
     "output_type": "error",
     "traceback": [
      "\u001b[0;31m---------------------------------------------------------------------------\u001b[0m",
      "\u001b[0;31mAttributeError\u001b[0m                            Traceback (most recent call last)",
      "\u001b[0;32m<ipython-input-14-b945dc3d6a04>\u001b[0m in \u001b[0;36m<module>\u001b[0;34m()\u001b[0m\n\u001b[0;32m----> 1\u001b[0;31m \u001b[0mstr\u001b[0m\u001b[0;34m(\u001b[0m\u001b[0mfeedback\u001b[0m\u001b[0;34m[\u001b[0m\u001b[0;36m1\u001b[0m\u001b[0;34m]\u001b[0m\u001b[0;34m)\u001b[0m\u001b[0;34m.\u001b[0m\u001b[0mstrftime\u001b[0m\u001b[0;34m(\u001b[0m\u001b[0;34m\"%Y-%m-%d %H:%M:%S\"\u001b[0m\u001b[0;34m)\u001b[0m\u001b[0;34m\u001b[0m\u001b[0m\n\u001b[0m",
      "\u001b[0;31mAttributeError\u001b[0m: 'str' object has no attribute 'strftime'"
     ]
    }
   ],
   "source": [
    "feedback[1].strftime(\"%Y-%m-%d %H:%M:%S\")"
   ]
  },
  {
   "cell_type": "code",
   "execution_count": 28,
   "metadata": {},
   "outputs": [
    {
     "data": {
      "text/plain": [
       "'2020-07-06 16:47:43'"
      ]
     },
     "execution_count": 28,
     "metadata": {},
     "output_type": "execute_result"
    }
   ],
   "source": [
    "import datetime\n",
    "(datetime.datetime.fromtimestamp(feedback[1] / 1e3)+ datetime.timedelta(hours = 8)).strftime(\"%Y-%m-%d %H:%M:%S\")"
   ]
  },
  {
   "cell_type": "code",
   "execution_count": 15,
   "metadata": {},
   "outputs": [
    {
     "name": "stdout",
     "output_type": "stream",
     "text": [
      "########################################\n"
     ]
    }
   ],
   "source": [
    "print('#'*40)"
   ]
  },
  {
   "cell_type": "code",
   "execution_count": null,
   "metadata": {},
   "outputs": [],
   "source": []
  }
 ],
 "metadata": {
  "kernelspec": {
   "display_name": "Python 3",
   "language": "python",
   "name": "python3"
  },
  "language_info": {
   "codemirror_mode": {
    "name": "ipython",
    "version": 3
   },
   "file_extension": ".py",
   "mimetype": "text/x-python",
   "name": "python",
   "nbconvert_exporter": "python",
   "pygments_lexer": "ipython3",
   "version": "3.6.5"
  }
 },
 "nbformat": 4,
 "nbformat_minor": 2
}
