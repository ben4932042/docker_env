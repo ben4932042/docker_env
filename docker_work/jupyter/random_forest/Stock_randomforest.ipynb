{
 "cells": [
  {
   "cell_type": "code",
   "execution_count": 26,
   "metadata": {},
   "outputs": [
    {
     "name": "stdout",
     "output_type": "stream",
     "text": [
      "Requirement already satisfied: matplotlib in /opt/conda/lib/python3.6/site-packages (3.2.1)\r\n",
      "Requirement already satisfied: pyparsing!=2.0.4,!=2.1.2,!=2.1.6,>=2.0.1 in /opt/conda/lib/python3.6/site-packages (from matplotlib) (2.4.7)\r\n",
      "Requirement already satisfied: cycler>=0.10 in /opt/conda/lib/python3.6/site-packages (from matplotlib) (0.10.0)\r\n",
      "Requirement already satisfied: kiwisolver>=1.0.1 in /opt/conda/lib/python3.6/site-packages (from matplotlib) (1.2.0)\r\n",
      "Requirement already satisfied: python-dateutil>=2.1 in /opt/conda/lib/python3.6/site-packages (from matplotlib) (2.7.3)\r\n",
      "Requirement already satisfied: numpy>=1.11 in /opt/conda/lib/python3.6/site-packages (from matplotlib) (1.15.4)\r\n",
      "Requirement already satisfied: six in /opt/conda/lib/python3.6/site-packages (from cycler>=0.10->matplotlib) (1.11.0)\r\n"
     ]
    }
   ],
   "source": [
    "!pip install matplotlib"
   ]
  },
  {
   "cell_type": "code",
   "execution_count": 34,
   "metadata": {
    "scrolled": true
   },
   "outputs": [],
   "source": [
    "from sklearn.ensemble import RandomForestClassifier\n",
    "from sklearn.model_selection import train_test_split\n",
    "import matplotlib.pyplot as plt\n",
    "import numpy as np\n",
    "import pandas as pd\n",
    "%matplotlib inline\n",
    "\n",
    "df = pd.read_csv('./test.csv').drop([i for i in range(91)]).reset_index(drop=True)\n",
    "CSV = './{}.TW.csv'.format(2330)\n",
    "\n",
    "daily_trade =pd.read_csv('{}'.format(CSV)).drop(['Dividends','Stock Splits'],axis = 1).drop([i for i in range(92)]).reset_index(drop=True)\n",
    "res = pd.concat([df,daily_trade],axis=1).drop([0]).drop(['Unnamed: 0','MA_1'],axis = 1).set_index(['Date'])\n",
    "\n",
    "\n",
    "# 定義新變數\n",
    "res['KD'] = res['K_values'] - res['D_values']\n",
    "# ---------------------------------------------------------------------------------- #\n",
    "rolling_time = 10\n",
    "res = res.reset_index(drop=True)\n",
    "res = res[::-1]\n",
    "res['result'] = res['Close'] - res['Close'].rolling(window = rolling_time).mean()\n",
    "X = [i for i in range(len(res))]\n",
    "X[-(rolling_time - 1):]\n",
    "res = res.drop(X[-(rolling_time - 1):])\n",
    "\n",
    "# 定義漲跌\n",
    "L = []\n",
    "for value in res['result'].values:\n",
    "    if value > 0:\n",
    "        L.append(1)\n",
    "    else:\n",
    "        L.append(0)\n",
    "\n",
    "\n",
    "        \n",
    "        \n",
    "\n",
    "res['test'] = res['MACD_10'] - res['MACD_20']\n",
    "res = res.drop(['MACD_10','MACD_20'],axis = 1)\n",
    "       \n",
    "res = res.drop(['result'],axis = 1)\n",
    "\n",
    "\n",
    "\n",
    "# 調整變數\n",
    "res = res.drop(['MACD_9','MACD_5','MACD_60','D_values','K_values','KD','RSV_9','Mean_Volume_15'],axis = 1)\n",
    "# res = res.drop(['Volume','Open','High','Low','Close','D_values','K_values','MACD_9'],axis = 1)"
   ]
  },
  {
   "cell_type": "code",
   "execution_count": 36,
   "metadata": {
    "scrolled": true
   },
   "outputs": [
    {
     "data": {
      "text/plain": [
       "RandomForestClassifier(bootstrap=True, class_weight=None, criterion='gini',\n",
       "            max_depth=None, max_features='auto', max_leaf_nodes=None,\n",
       "            min_impurity_decrease=0.0, min_impurity_split=None,\n",
       "            min_samples_leaf=50, min_samples_split=2,\n",
       "            min_weight_fraction_leaf=0.0, n_estimators=800, n_jobs=-1,\n",
       "            oob_score=False, random_state=50, verbose=0, warm_start=False)"
      ]
     },
     "execution_count": 36,
     "metadata": {},
     "output_type": "execute_result"
    }
   ],
   "source": [
    "X = res.values\n",
    "y = np.array(L)\n",
    "X_train,X_test,y_train,y_test=train_test_split(X,y,test_size=0.3) #測試資料比例\n",
    "\n",
    "rfc=RandomForestClassifier(n_estimators = 800,n_jobs = -1,random_state =50, min_samples_leaf = 50)\n",
    "rfc.fit(X_train,y_train)\n"
   ]
  },
  {
   "cell_type": "code",
   "execution_count": 37,
   "metadata": {},
   "outputs": [
    {
     "data": {
      "text/plain": [
       "0.6148409893992933"
      ]
     },
     "execution_count": 37,
     "metadata": {},
     "output_type": "execute_result"
    }
   ],
   "source": [
    "y_predict=rfc.predict(X_test)\n",
    "# y_predict\n",
    "rfc.score(X_test,y_test)"
   ]
  },
  {
   "cell_type": "code",
   "execution_count": 38,
   "metadata": {},
   "outputs": [
    {
     "data": {
      "text/plain": [
       "array([0.1402407 , 0.19317128, 0.15393937, 0.16037515, 0.11911148,\n",
       "       0.23316202])"
      ]
     },
     "execution_count": 38,
     "metadata": {},
     "output_type": "execute_result"
    }
   ],
   "source": [
    "imp=rfc.feature_importances_\n",
    "imp"
   ]
  },
  {
   "cell_type": "code",
   "execution_count": 39,
   "metadata": {},
   "outputs": [
    {
     "data": {
      "text/plain": [
       "['Open', 'High', 'Low', 'Close', 'Volume', 'test']"
      ]
     },
     "execution_count": 39,
     "metadata": {},
     "output_type": "execute_result"
    }
   ],
   "source": [
    "names=[i for i in res.columns]\n",
    "names"
   ]
  },
  {
   "cell_type": "code",
   "execution_count": 40,
   "metadata": {},
   "outputs": [
    {
     "data": {
      "image/png": "[encoded data removed]",
      "text/plain": [
       "<Figure size 432x288 with 1 Axes>"
      ]
     },
     "metadata": {},
     "output_type": "display_data"
    }
   ],
   "source": [
    "zip(imp,names)\n",
    "imp, names= zip(*sorted(zip(imp,names)))\n",
    "plt.barh(range(len(names)),imp,align='center')\n",
    "plt.yticks(range(len(names)),names)\n",
    "plt.xlabel('Importance of Features')\n",
    "plt.ylabel('Features')\n",
    "plt.title('Importance of Each Feature')\n",
    "plt.show()"
   ]
  },
  {
   "cell_type": "code",
   "execution_count": null,
   "metadata": {},
   "outputs": [],
   "source": []
  }
 ],
 "metadata": {
  "kernelspec": {
   "display_name": "Python 3",
   "language": "python",
   "name": "python3"
  },
  "language_info": {
   "codemirror_mode": {
    "name": "ipython",
    "version": 3
   },
   "file_extension": ".py",
   "mimetype": "text/x-python",
   "name": "python",
   "nbconvert_exporter": "python",
   "pygments_lexer": "ipython3",
   "version": "3.6.5"
  }
 },
 "nbformat": 4,
 "nbformat_minor": 2
}
