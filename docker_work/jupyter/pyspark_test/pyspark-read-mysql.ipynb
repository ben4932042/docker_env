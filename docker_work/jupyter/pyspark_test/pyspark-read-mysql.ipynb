{
 "cells": [
  {
   "cell_type": "markdown",
   "metadata": {},
   "source": [
    "# 載入 Mysql 函式庫"
   ]
  },
  {
   "cell_type": "code",
   "execution_count": 1,
   "metadata": {},
   "outputs": [
    {
     "name": "stdout",
     "output_type": "stream",
     "text": [
      "Collecting pyspark\n",
      "  Downloading pyspark-2.4.6.tar.gz (218.4 MB)\n",
      "\u001b[K     |████████████████████████████████| 218.4 MB 30 kB/s  eta 0:00:012  |▌                               | 3.7 MB 1.1 MB/s eta 0:03:13     |▋                               | 3.8 MB 1.7 MB/s eta 0:02:06     |▊                               | 4.9 MB 1.7 MB/s eta 0:02:06     |▉                               | 5.8 MB 1.7 MB/s eta 0:02:05     |▉                               | 6.0 MB 1.7 MB/s eta 0:02:05     |█                               | 7.2 MB 10.0 MB/s eta 0:00:22     |█▎                              | 8.6 MB 10.0 MB/s eta 0:00:22     |█▍                              | 9.5 MB 10.0 MB/s eta 0:00:21     |██▏                             | 14.7 MB 5.0 MB/s eta 0:00:41     |██▍                             | 16.5 MB 3.0 MB/s eta 0:01:07     |██▋                             | 17.6 MB 3.0 MB/s eta 0:01:06     |██▋                             | 18.0 MB 3.0 MB/s eta 0:01:06     |██▉                             | 19.2 MB 3.0 MB/s eta 0:01:06     |██▉                             | 19.4 MB 3.0 MB/s eta 0:01:06     |███                             | 20.7 MB 3.0 MB/s eta 0:01:05     |███▌                            | 23.5 MB 2.1 MB/s eta 0:01:35     |███▊                            | 25.4 MB 2.1 MB/s eta 0:01:34     |███▉                            | 26.3 MB 2.1 MB/s eta 0:01:34     |████▍                           | 30.2 MB 2.1 MB/s eta 0:01:32     |████▌                           | 30.9 MB 18.5 MB/s eta 0:00:11     |████▋                           | 31.8 MB 18.5 MB/s eta 0:00:11     |████▊                           | 32.1 MB 18.5 MB/s eta 0:00:11     |████▊                           | 32.4 MB 18.5 MB/s eta 0:00:11     |████▉                           | 33.1 MB 18.5 MB/s eta 0:00:11     |████▉                           | 33.3 MB 18.5 MB/s eta 0:00:10     |█████                           | 34.4 MB 18.5 MB/s eta 0:00:10     |█████▏                          | 35.3 MB 18.5 MB/s eta 0:00:10     |█████▌                          | 37.7 MB 6.0 MB/s eta 0:00:31     |█████▋                          | 38.1 MB 6.0 MB/s eta 0:00:30MB/s eta 0:00:30     |██████████                      | 68.0 MB 9.7 MB/s eta 0:00:16     |██████████                      | 68.5 MB 9.7 MB/s eta 0:00:16     |███████████▏                    | 76.5 MB 4.7 MB/s eta 0:00:31     |██████████████                  | 95.1 MB 7.2 MB/s eta 0:00:18     |███████████████▊                | 107.2 MB 350 kB/s eta 0:05:18     |███████████████████▌            | 133.4 MB 35.3 MB/s eta 0:00:03     |████████████████████▎           | 138.2 MB 6.9 MB/s eta 0:00:12     |████████████████████▉           | 142.2 MB 6.9 MB/s eta 0:00:12     |█████████████████████           | 143.3 MB 1.4 MB/s eta 0:00:53     |█████████████████████▊          | 148.2 MB 1.4 MB/s eta 0:00:50     |██████████████████████▏         | 151.0 MB 7.4 MB/s eta 0:00:10  |███████████████████████▍        | 159.9 MB 1.6 MB/s eta 0:00:37     |███████████████████████▌        | 160.5 MB 1.6 MB/s eta 0:00:36     |████████████████████████▏       | 164.8 MB 1.6 MB/s eta 0:00:33     |████████████████████████▎       | 165.9 MB 5.9 MB/s eta 0:00:09     |████████████████████████▌       | 167.4 MB 5.9 MB/s eta 0:00:09     |████████████████████████▉       | 169.2 MB 5.9 MB/s eta 0:00:09     |█████████████████████████       | 171.3 MB 414 kB/s eta 0:01:54     |█████████████████████████▏      | 171.6 MB 414 kB/s eta 0:01:53     |█████████████████████████▏      | 171.9 MB 414 kB/s eta 0:01:53     |█████████████████████████▊      | 175.5 MB 4.2 MB/s eta 0:00:11     |████████████████████████████▍   | 193.9 MB 4.8 MB/s eta 0:00:06     |████████████████████████████▊   | 196.0 MB 4.8 MB/s eta 0:00:05     |████████████████████████████▉   | 196.7 MB 4.8 MB/s eta 0:00:05     |█████████████████████████████▋  | 201.8 MB 5.3 MB/s eta 0:00:04:00:02MB/s eta 0:00:02     |██████████████████████████████  | 204.8 MB 11.0 MB/s eta 0:00:026 MB 7.2 MB/s eta 0:00:020 MB 7.2 MB/s eta 0:00:029 MB 7.2 MB/s eta 0:00:02\n",
      "\u001b[?25hCollecting py4j==0.10.7\n",
      "  Downloading py4j-0.10.7-py2.py3-none-any.whl (197 kB)\n",
      "\u001b[K     |████████████████████████████████| 197 kB 5.0 MB/s eta 0:00:01\n",
      "\u001b[?25hBuilding wheels for collected packages: pyspark\n",
      "  Building wheel for pyspark (setup.py) ... \u001b[?25ldone\n",
      "\u001b[?25h  Created wheel for pyspark: filename=pyspark-2.4.6-py2.py3-none-any.whl size=218814459 sha256=9d9bef5ce15a2ec6ef25d4558c0469931f6ccfe3b5daac51a8cbaee2a01ec6bb\n",
      "  Stored in directory: /home/jovyan/.cache/pip/wheels/93/cc/48/b5b101370aed13568860902e7a6ad942de9d246c2046848255\n",
      "Successfully built pyspark\n",
      "Installing collected packages: py4j, pyspark\n",
      "Successfully installed py4j-0.10.7 pyspark-2.4.6\n"
     ]
    }
   ],
   "source": [
    "!pip install pyspark"
   ]
  },
  {
   "cell_type": "code",
   "execution_count": 8,
   "metadata": {},
   "outputs": [
    {
     "ename": "Exception",
     "evalue": "Java gateway process exited before sending its port number",
     "output_type": "error",
     "traceback": [
      "\u001b[0;31m---------------------------------------------------------------------------\u001b[0m",
      "\u001b[0;31mException\u001b[0m                                 Traceback (most recent call last)",
      "\u001b[0;32m<ipython-input-8-a8184041bfe4>\u001b[0m in \u001b[0;36m<module>\u001b[0;34m()\u001b[0m\n\u001b[1;32m      7\u001b[0m \u001b[0;31m# sc = SparkContext(conf=sparkConf)\u001b[0m\u001b[0;34m\u001b[0m\u001b[0;34m\u001b[0m\u001b[0m\n\u001b[1;32m      8\u001b[0m \u001b[0mconf\u001b[0m \u001b[0;34m=\u001b[0m \u001b[0mSparkConf\u001b[0m\u001b[0;34m(\u001b[0m\u001b[0;34m)\u001b[0m\u001b[0;34m.\u001b[0m\u001b[0msetAppName\u001b[0m\u001b[0;34m(\u001b[0m\u001b[0;34m\"spark-master\"\u001b[0m\u001b[0;34m)\u001b[0m\u001b[0;34m.\u001b[0m\u001b[0msetMaster\u001b[0m\u001b[0;34m(\u001b[0m\u001b[0;34m\"spark://a64e091adec5:7077\"\u001b[0m\u001b[0;34m)\u001b[0m\u001b[0;34m\u001b[0m\u001b[0m\n\u001b[0;32m----> 9\u001b[0;31m \u001b[0msc\u001b[0m \u001b[0;34m=\u001b[0m \u001b[0mSparkContext\u001b[0m\u001b[0;34m(\u001b[0m\u001b[0mconf\u001b[0m\u001b[0;34m)\u001b[0m\u001b[0;34m\u001b[0m\u001b[0m\n\u001b[0m",
      "\u001b[0;32m/opt/conda/lib/python3.6/site-packages/pyspark/context.py\u001b[0m in \u001b[0;36m__init__\u001b[0;34m(self, master, appName, sparkHome, pyFiles, environment, batchSize, serializer, conf, gateway, jsc, profiler_cls)\u001b[0m\n\u001b[1;32m    131\u001b[0m                     \" note this option will be removed in Spark 3.0\")\n\u001b[1;32m    132\u001b[0m \u001b[0;34m\u001b[0m\u001b[0m\n\u001b[0;32m--> 133\u001b[0;31m         \u001b[0mSparkContext\u001b[0m\u001b[0;34m.\u001b[0m\u001b[0m_ensure_initialized\u001b[0m\u001b[0;34m(\u001b[0m\u001b[0mself\u001b[0m\u001b[0;34m,\u001b[0m \u001b[0mgateway\u001b[0m\u001b[0;34m=\u001b[0m\u001b[0mgateway\u001b[0m\u001b[0;34m,\u001b[0m \u001b[0mconf\u001b[0m\u001b[0;34m=\u001b[0m\u001b[0mconf\u001b[0m\u001b[0;34m)\u001b[0m\u001b[0;34m\u001b[0m\u001b[0m\n\u001b[0m\u001b[1;32m    134\u001b[0m         \u001b[0;32mtry\u001b[0m\u001b[0;34m:\u001b[0m\u001b[0;34m\u001b[0m\u001b[0m\n\u001b[1;32m    135\u001b[0m             self._do_init(master, appName, sparkHome, pyFiles, environment, batchSize, serializer,\n",
      "\u001b[0;32m/opt/conda/lib/python3.6/site-packages/pyspark/context.py\u001b[0m in \u001b[0;36m_ensure_initialized\u001b[0;34m(cls, instance, gateway, conf)\u001b[0m\n\u001b[1;32m    314\u001b[0m         \u001b[0;32mwith\u001b[0m \u001b[0mSparkContext\u001b[0m\u001b[0;34m.\u001b[0m\u001b[0m_lock\u001b[0m\u001b[0;34m:\u001b[0m\u001b[0;34m\u001b[0m\u001b[0m\n\u001b[1;32m    315\u001b[0m             \u001b[0;32mif\u001b[0m \u001b[0;32mnot\u001b[0m \u001b[0mSparkContext\u001b[0m\u001b[0;34m.\u001b[0m\u001b[0m_gateway\u001b[0m\u001b[0;34m:\u001b[0m\u001b[0;34m\u001b[0m\u001b[0m\n\u001b[0;32m--> 316\u001b[0;31m                 \u001b[0mSparkContext\u001b[0m\u001b[0;34m.\u001b[0m\u001b[0m_gateway\u001b[0m \u001b[0;34m=\u001b[0m \u001b[0mgateway\u001b[0m \u001b[0;32mor\u001b[0m \u001b[0mlaunch_gateway\u001b[0m\u001b[0;34m(\u001b[0m\u001b[0mconf\u001b[0m\u001b[0;34m)\u001b[0m\u001b[0;34m\u001b[0m\u001b[0m\n\u001b[0m\u001b[1;32m    317\u001b[0m                 \u001b[0mSparkContext\u001b[0m\u001b[0;34m.\u001b[0m\u001b[0m_jvm\u001b[0m \u001b[0;34m=\u001b[0m \u001b[0mSparkContext\u001b[0m\u001b[0;34m.\u001b[0m\u001b[0m_gateway\u001b[0m\u001b[0;34m.\u001b[0m\u001b[0mjvm\u001b[0m\u001b[0;34m\u001b[0m\u001b[0m\n\u001b[1;32m    318\u001b[0m \u001b[0;34m\u001b[0m\u001b[0m\n",
      "\u001b[0;32m/opt/conda/lib/python3.6/site-packages/pyspark/java_gateway.py\u001b[0m in \u001b[0;36mlaunch_gateway\u001b[0;34m(conf)\u001b[0m\n\u001b[1;32m     44\u001b[0m     \u001b[0;34m:\u001b[0m\u001b[0;32mreturn\u001b[0m\u001b[0;34m:\u001b[0m \u001b[0ma\u001b[0m \u001b[0mJVM\u001b[0m \u001b[0mgateway\u001b[0m\u001b[0;34m\u001b[0m\u001b[0m\n\u001b[1;32m     45\u001b[0m     \"\"\"\n\u001b[0;32m---> 46\u001b[0;31m     \u001b[0;32mreturn\u001b[0m \u001b[0m_launch_gateway\u001b[0m\u001b[0;34m(\u001b[0m\u001b[0mconf\u001b[0m\u001b[0;34m)\u001b[0m\u001b[0;34m\u001b[0m\u001b[0m\n\u001b[0m\u001b[1;32m     47\u001b[0m \u001b[0;34m\u001b[0m\u001b[0m\n\u001b[1;32m     48\u001b[0m \u001b[0;34m\u001b[0m\u001b[0m\n",
      "\u001b[0;32m/opt/conda/lib/python3.6/site-packages/pyspark/java_gateway.py\u001b[0m in \u001b[0;36m_launch_gateway\u001b[0;34m(conf, insecure)\u001b[0m\n\u001b[1;32m    106\u001b[0m \u001b[0;34m\u001b[0m\u001b[0m\n\u001b[1;32m    107\u001b[0m             \u001b[0;32mif\u001b[0m \u001b[0;32mnot\u001b[0m \u001b[0mos\u001b[0m\u001b[0;34m.\u001b[0m\u001b[0mpath\u001b[0m\u001b[0;34m.\u001b[0m\u001b[0misfile\u001b[0m\u001b[0;34m(\u001b[0m\u001b[0mconn_info_file\u001b[0m\u001b[0;34m)\u001b[0m\u001b[0;34m:\u001b[0m\u001b[0;34m\u001b[0m\u001b[0m\n\u001b[0;32m--> 108\u001b[0;31m                 \u001b[0;32mraise\u001b[0m \u001b[0mException\u001b[0m\u001b[0;34m(\u001b[0m\u001b[0;34m\"Java gateway process exited before sending its port number\"\u001b[0m\u001b[0;34m)\u001b[0m\u001b[0;34m\u001b[0m\u001b[0m\n\u001b[0m\u001b[1;32m    109\u001b[0m \u001b[0;34m\u001b[0m\u001b[0m\n\u001b[1;32m    110\u001b[0m             \u001b[0;32mwith\u001b[0m \u001b[0mopen\u001b[0m\u001b[0;34m(\u001b[0m\u001b[0mconn_info_file\u001b[0m\u001b[0;34m,\u001b[0m \u001b[0;34m\"rb\"\u001b[0m\u001b[0;34m)\u001b[0m \u001b[0;32mas\u001b[0m \u001b[0minfo\u001b[0m\u001b[0;34m:\u001b[0m\u001b[0;34m\u001b[0m\u001b[0m\n",
      "\u001b[0;31mException\u001b[0m: Java gateway process exited before sending its port number"
     ]
    }
   ],
   "source": [
    "from pyspark.sql import SQLContext, SparkSession\n",
    "from pyspark import SparkContext, SparkConf\n",
    "\n",
    "# sparkConf = SparkConf(False).setMaster(\"spark-master:8080\") \\\n",
    "#             .setAppName(\"read-mysql\") \n",
    "            \n",
    "# sc = SparkContext(conf=sparkConf)\n",
    "conf = SparkConf().setAppName(\"spark-master\").setMaster(\"spark://a64e091adec5:7077\")\n",
    "sc = SparkContext(conf)\n"
   ]
  },
  {
   "cell_type": "markdown",
   "metadata": {},
   "source": [
    "# 設定遠端 Mysql 連線資訊"
   ]
  },
  {
   "cell_type": "code",
   "execution_count": 2,
   "metadata": {},
   "outputs": [],
   "source": [
    "df=sqlContext.read.format(\"jdbc\").options(url=\"jdbc:mysql://mysql:3306/ltu\",\n",
    "                                       driver=\"com.mysql.jdbc.Driver\",\n",
    "                                       dbtable=\"(SELECT * FROM device) tmp\",user=\"root\",\n",
    "                                       password=\"iii\").load()"
   ]
  },
  {
   "cell_type": "markdown",
   "metadata": {},
   "source": [
    "# 打印表格內容"
   ]
  },
  {
   "cell_type": "code",
   "execution_count": 3,
   "metadata": {},
   "outputs": [
    {
     "name": "stdout",
     "output_type": "stream",
     "text": [
      "+---------+--------+--------------------+\n",
      "|device_id|location|         description|\n",
      "+---------+--------+--------------------+\n",
      "|      001|Taichung|Semiconductor-Mac...|\n",
      "|      002|Taichung|Semiconductor-Mac...|\n",
      "|      003|Taichung|Semiconductor-Mac...|\n",
      "|      004|Taichung|Semiconductor-Mac...|\n",
      "|      005|Taichung|Semiconductor-Mac...|\n",
      "+---------+--------+--------------------+\n",
      "\n"
     ]
    }
   ],
   "source": [
    "df.show()"
   ]
  },
  {
   "cell_type": "markdown",
   "metadata": {},
   "source": [
    "# 列印 Mysql 資料欄位型態"
   ]
  },
  {
   "cell_type": "code",
   "execution_count": 4,
   "metadata": {},
   "outputs": [
    {
     "name": "stdout",
     "output_type": "stream",
     "text": [
      "root\n",
      " |-- device_id: string (nullable = true)\n",
      " |-- location: string (nullable = true)\n",
      " |-- description: string (nullable = true)\n",
      "\n",
      "None\n"
     ]
    }
   ],
   "source": [
    "print(df.printSchema())"
   ]
  },
  {
   "cell_type": "code",
   "execution_count": 5,
   "metadata": {
    "collapsed": true
   },
   "outputs": [],
   "source": [
    "sc.stop()"
   ]
  },
  {
   "cell_type": "code",
   "execution_count": null,
   "metadata": {
    "collapsed": true
   },
   "outputs": [],
   "source": []
  }
 ],
 "metadata": {
  "kernelspec": {
   "display_name": "Python 3",
   "language": "python",
   "name": "python3"
  },
  "language_info": {
   "codemirror_mode": {
    "name": "ipython",
    "version": 3
   },
   "file_extension": ".py",
   "mimetype": "text/x-python",
   "name": "python",
   "nbconvert_exporter": "python",
   "pygments_lexer": "ipython3",
   "version": "3.6.5"
  }
 },
 "nbformat": 4,
 "nbformat_minor": 2
}
